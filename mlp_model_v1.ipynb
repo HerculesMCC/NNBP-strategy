{
 "cells": [
  {
   "cell_type": "code",
   "execution_count": 157,
   "id": "be6dcbaa",
   "metadata": {},
   "outputs": [],
   "source": [
    "import yfinance as yf\n",
    "import pandas as pd\n",
    "import numpy as np\n",
    "from sklearn.preprocessing import StandardScaler\n",
    "from sklearn.model_selection import train_test_split\n",
    "import tensorflow as tf\n",
    "from tensorflow import keras\n",
    "from tensorflow.keras import layers, models\n",
    "import random"
   ]
  },
  {
   "cell_type": "markdown",
   "id": "a5a25fc1",
   "metadata": {},
   "source": [
    "**Download Data**"
   ]
  },
  {
   "cell_type": "code",
   "execution_count": 158,
   "id": "1d70d702",
   "metadata": {},
   "outputs": [
    {
     "name": "stderr",
     "output_type": "stream",
     "text": [
      "C:\\Users\\Kyllian\\AppData\\Local\\Temp\\ipykernel_28248\\4273540099.py:1: FutureWarning: YF.download() has changed argument auto_adjust default to True\n",
      "  data = yf.download(\"NVDA\", start=\"2018-01-01\", end=\"2023-01-01\")\n",
      "[*********************100%***********************]  1 of 1 completed"
     ]
    },
    {
     "name": "stdout",
     "output_type": "stream",
     "text": [
      "Price           Close       High        Low       Open     Volume    Return  \\\n",
      "Ticker           NVDA       NVDA       NVDA       NVDA       NVDA             \n",
      "Date                                                                          \n",
      "2018-01-03   5.253192   5.283604   5.037596   5.046249  914704000  0.065814   \n",
      "2018-01-04   5.280883   5.391154   5.258631   5.334535  583268000  0.005271   \n",
      "2018-01-05   5.325635   5.362969   5.218825   5.295718  580124000  0.008474   \n",
      "2018-01-08   5.488815   5.562988   5.404257   5.449256  881216000  0.030640   \n",
      "2018-01-09   5.487332   5.533814   5.405741   5.494255  497000000 -0.000270   \n",
      "...               ...        ...        ...        ...        ...       ...   \n",
      "2022-12-23  15.191639  15.324513  14.868944  15.181648  349326000 -0.008671   \n",
      "2022-12-27  14.107664  15.085740  14.042725  15.059764  464902000 -0.071353   \n",
      "2022-12-28  14.022744  14.248531  13.870887  13.913847  351066000 -0.006019   \n",
      "2022-12-29  14.589209  14.669133  14.213564  14.388399  354923000  0.040396   \n",
      "2022-12-30  14.600200  14.615185  14.219559  14.320463  310490000  0.000753   \n",
      "\n",
      "Price      Target  \n",
      "Ticker             \n",
      "Date               \n",
      "2018-01-03      1  \n",
      "2018-01-04      1  \n",
      "2018-01-05      1  \n",
      "2018-01-08      1  \n",
      "2018-01-09      0  \n",
      "...           ...  \n",
      "2022-12-23      0  \n",
      "2022-12-27      0  \n",
      "2022-12-28      0  \n",
      "2022-12-29      1  \n",
      "2022-12-30      1  \n",
      "\n",
      "[1258 rows x 7 columns]\n"
     ]
    },
    {
     "name": "stderr",
     "output_type": "stream",
     "text": [
      "\n"
     ]
    }
   ],
   "source": [
    "data = yf.download(\"NVDA\", start=\"2018-01-01\", end=\"2023-01-01\")\n",
    "\n",
    "data[\"Return\"] = data[\"Close\"].pct_change()\n",
    "data.dropna(inplace=True)\n",
    "\n",
    "data[\"Target\"] = (data[\"Return\"] > 0).astype(int)\n",
    "print(data)"
   ]
  },
  {
   "cell_type": "markdown",
   "id": "8172dd3e",
   "metadata": {},
   "source": [
    "**Make the model deterministic**"
   ]
  },
  {
   "cell_type": "code",
   "execution_count": null,
   "id": "f6ef74b3",
   "metadata": {},
   "outputs": [],
   "source": [
    "seed = 42\n",
    "np.random.seed(seed)\n",
    "tf.random.set_seed(seed)\n",
    "random.seed(seed)"
   ]
  },
  {
   "cell_type": "markdown",
   "id": "e43f095b",
   "metadata": {},
   "source": [
    "**Build Features**"
   ]
  },
  {
   "cell_type": "code",
   "execution_count": 160,
   "id": "210f1eba",
   "metadata": {},
   "outputs": [],
   "source": [
    "lookback = 5\n",
    "X, y = [], []\n",
    "for i in range(lookback, len(data)):\n",
    "    X.append(data[\"Return\"].values[i-lookback:i])\n",
    "    y.append(data[\"Target\"].values[i])\n",
    "\n",
    "X = np.array(X)\n",
    "y = np.array(y)\n",
    "\n",
    "# Standardisation\n",
    "scaler = StandardScaler()\n",
    "X = scaler.fit_transform(X)\n",
    "\n",
    "# Split train / test\n",
    "X_train, X_test, y_train, y_test = train_test_split(\n",
    "    X, y, test_size=0.2, shuffle=False\n",
    ")"
   ]
  },
  {
   "cell_type": "markdown",
   "id": "f4a7fcb1",
   "metadata": {},
   "source": [
    "**MLP Model**"
   ]
  },
  {
   "cell_type": "code",
   "execution_count": 161,
   "id": "44968865",
   "metadata": {},
   "outputs": [
    {
     "name": "stderr",
     "output_type": "stream",
     "text": [
      "c:\\Users\\Kyllian\\AppData\\Local\\Programs\\Python\\Python310\\lib\\site-packages\\keras\\src\\layers\\core\\dense.py:92: UserWarning: Do not pass an `input_shape`/`input_dim` argument to a layer. When using Sequential models, prefer using an `Input(shape)` object as the first layer in the model instead.\n",
      "  super().__init__(activity_regularizer=activity_regularizer, **kwargs)\n"
     ]
    }
   ],
   "source": [
    "model = models.Sequential([\n",
    "    layers.Dense(32, activation=\"relu\", input_shape=(X_train.shape[1],)),\n",
    "    # layers.Dense(16, activation=\"relu\"),\n",
    "    layers.Dense(1, activation=\"sigmoid\")  # sortie = proba\n",
    "])\n",
    "\n",
    "model.compile(optimizer=\"adam\", loss=\"binary_crossentropy\", metrics=[\"accuracy\"])"
   ]
  },
  {
   "cell_type": "markdown",
   "id": "8409369d",
   "metadata": {},
   "source": [
    "**Training**"
   ]
  },
  {
   "cell_type": "code",
   "execution_count": 162,
   "id": "c728e2a7",
   "metadata": {},
   "outputs": [
    {
     "name": "stdout",
     "output_type": "stream",
     "text": [
      "Epoch 1/20\n",
      "\u001b[1m32/32\u001b[0m \u001b[32m━━━━━━━━━━━━━━━━━━━━\u001b[0m\u001b[37m\u001b[0m \u001b[1m1s\u001b[0m 6ms/step - accuracy: 0.5299 - loss: 0.6976 - val_accuracy: 0.4781 - val_loss: 0.7470\n",
      "Epoch 2/20\n",
      "\u001b[1m32/32\u001b[0m \u001b[32m━━━━━━━━━━━━━━━━━━━━\u001b[0m\u001b[37m\u001b[0m \u001b[1m0s\u001b[0m 3ms/step - accuracy: 0.5389 - loss: 0.6916 - val_accuracy: 0.4741 - val_loss: 0.7437\n",
      "Epoch 3/20\n",
      "\u001b[1m32/32\u001b[0m \u001b[32m━━━━━━━━━━━━━━━━━━━━\u001b[0m\u001b[37m\u001b[0m \u001b[1m0s\u001b[0m 3ms/step - accuracy: 0.5389 - loss: 0.6886 - val_accuracy: 0.4741 - val_loss: 0.7432\n",
      "Epoch 4/20\n",
      "\u001b[1m32/32\u001b[0m \u001b[32m━━━━━━━━━━━━━━━━━━━━\u001b[0m\u001b[37m\u001b[0m \u001b[1m0s\u001b[0m 3ms/step - accuracy: 0.5469 - loss: 0.6867 - val_accuracy: 0.4462 - val_loss: 0.7436\n",
      "Epoch 5/20\n",
      "\u001b[1m32/32\u001b[0m \u001b[32m━━━━━━━━━━━━━━━━━━━━\u001b[0m\u001b[37m\u001b[0m \u001b[1m0s\u001b[0m 3ms/step - accuracy: 0.5479 - loss: 0.6853 - val_accuracy: 0.4542 - val_loss: 0.7443\n",
      "Epoch 6/20\n",
      "\u001b[1m32/32\u001b[0m \u001b[32m━━━━━━━━━━━━━━━━━━━━\u001b[0m\u001b[37m\u001b[0m \u001b[1m0s\u001b[0m 3ms/step - accuracy: 0.5489 - loss: 0.6843 - val_accuracy: 0.4382 - val_loss: 0.7448\n",
      "Epoch 7/20\n",
      "\u001b[1m32/32\u001b[0m \u001b[32m━━━━━━━━━━━━━━━━━━━━\u001b[0m\u001b[37m\u001b[0m \u001b[1m0s\u001b[0m 3ms/step - accuracy: 0.5469 - loss: 0.6835 - val_accuracy: 0.4422 - val_loss: 0.7452\n",
      "Epoch 8/20\n",
      "\u001b[1m32/32\u001b[0m \u001b[32m━━━━━━━━━━━━━━━━━━━━\u001b[0m\u001b[37m\u001b[0m \u001b[1m0s\u001b[0m 3ms/step - accuracy: 0.5489 - loss: 0.6827 - val_accuracy: 0.4382 - val_loss: 0.7456\n",
      "Epoch 9/20\n",
      "\u001b[1m32/32\u001b[0m \u001b[32m━━━━━━━━━━━━━━━━━━━━\u001b[0m\u001b[37m\u001b[0m \u001b[1m0s\u001b[0m 3ms/step - accuracy: 0.5499 - loss: 0.6821 - val_accuracy: 0.4582 - val_loss: 0.7459\n",
      "Epoch 10/20\n",
      "\u001b[1m32/32\u001b[0m \u001b[32m━━━━━━━━━━━━━━━━━━━━\u001b[0m\u001b[37m\u001b[0m \u001b[1m0s\u001b[0m 3ms/step - accuracy: 0.5529 - loss: 0.6816 - val_accuracy: 0.4582 - val_loss: 0.7461\n",
      "Epoch 11/20\n",
      "\u001b[1m32/32\u001b[0m \u001b[32m━━━━━━━━━━━━━━━━━━━━\u001b[0m\u001b[37m\u001b[0m \u001b[1m0s\u001b[0m 3ms/step - accuracy: 0.5549 - loss: 0.6811 - val_accuracy: 0.4622 - val_loss: 0.7463\n",
      "Epoch 12/20\n",
      "\u001b[1m32/32\u001b[0m \u001b[32m━━━━━━━━━━━━━━━━━━━━\u001b[0m\u001b[37m\u001b[0m \u001b[1m0s\u001b[0m 3ms/step - accuracy: 0.5569 - loss: 0.6806 - val_accuracy: 0.4582 - val_loss: 0.7466\n",
      "Epoch 13/20\n",
      "\u001b[1m32/32\u001b[0m \u001b[32m━━━━━━━━━━━━━━━━━━━━\u001b[0m\u001b[37m\u001b[0m \u001b[1m0s\u001b[0m 3ms/step - accuracy: 0.5549 - loss: 0.6802 - val_accuracy: 0.4582 - val_loss: 0.7468\n",
      "Epoch 14/20\n",
      "\u001b[1m32/32\u001b[0m \u001b[32m━━━━━━━━━━━━━━━━━━━━\u001b[0m\u001b[37m\u001b[0m \u001b[1m0s\u001b[0m 3ms/step - accuracy: 0.5529 - loss: 0.6798 - val_accuracy: 0.4622 - val_loss: 0.7468\n",
      "Epoch 15/20\n",
      "\u001b[1m32/32\u001b[0m \u001b[32m━━━━━━━━━━━━━━━━━━━━\u001b[0m\u001b[37m\u001b[0m \u001b[1m0s\u001b[0m 3ms/step - accuracy: 0.5509 - loss: 0.6794 - val_accuracy: 0.4622 - val_loss: 0.7468\n",
      "Epoch 16/20\n",
      "\u001b[1m32/32\u001b[0m \u001b[32m━━━━━━━━━━━━━━━━━━━━\u001b[0m\u001b[37m\u001b[0m \u001b[1m0s\u001b[0m 3ms/step - accuracy: 0.5539 - loss: 0.6791 - val_accuracy: 0.4582 - val_loss: 0.7468\n",
      "Epoch 17/20\n",
      "\u001b[1m32/32\u001b[0m \u001b[32m━━━━━━━━━━━━━━━━━━━━\u001b[0m\u001b[37m\u001b[0m \u001b[1m0s\u001b[0m 4ms/step - accuracy: 0.5539 - loss: 0.6787 - val_accuracy: 0.4622 - val_loss: 0.7467\n",
      "Epoch 18/20\n",
      "\u001b[1m32/32\u001b[0m \u001b[32m━━━━━━━━━━━━━━━━━━━━\u001b[0m\u001b[37m\u001b[0m \u001b[1m0s\u001b[0m 3ms/step - accuracy: 0.5569 - loss: 0.6784 - val_accuracy: 0.4622 - val_loss: 0.7466\n",
      "Epoch 19/20\n",
      "\u001b[1m32/32\u001b[0m \u001b[32m━━━━━━━━━━━━━━━━━━━━\u001b[0m\u001b[37m\u001b[0m \u001b[1m0s\u001b[0m 3ms/step - accuracy: 0.5569 - loss: 0.6781 - val_accuracy: 0.4622 - val_loss: 0.7465\n",
      "Epoch 20/20\n",
      "\u001b[1m32/32\u001b[0m \u001b[32m━━━━━━━━━━━━━━━━━━━━\u001b[0m\u001b[37m\u001b[0m \u001b[1m0s\u001b[0m 3ms/step - accuracy: 0.5559 - loss: 0.6778 - val_accuracy: 0.4661 - val_loss: 0.7464\n"
     ]
    }
   ],
   "source": [
    "history = model.fit(X_train, y_train, validation_data=(X_test, y_test),\n",
    "                    epochs=20, batch_size=32, verbose=1)"
   ]
  },
  {
   "cell_type": "markdown",
   "id": "bba43a3f",
   "metadata": {},
   "source": [
    "**Long Only Strategy**"
   ]
  },
  {
   "cell_type": "code",
   "execution_count": 163,
   "id": "e9ea243c",
   "metadata": {},
   "outputs": [
    {
     "name": "stdout",
     "output_type": "stream",
     "text": [
      "\u001b[1m8/8\u001b[0m \u001b[32m━━━━━━━━━━━━━━━━━━━━\u001b[0m\u001b[37m\u001b[0m \u001b[1m0s\u001b[0m 10ms/step\n"
     ]
    }
   ],
   "source": [
    "proba = model.predict(X_test).flatten()\n",
    "positions = (proba > 0.5).astype(int)  # 1 si on prend position"
   ]
  },
  {
   "cell_type": "markdown",
   "id": "49fa5b0f",
   "metadata": {},
   "source": [
    "**Strategy  Simulation**"
   ]
  },
  {
   "cell_type": "code",
   "execution_count": 164,
   "id": "17e5d529",
   "metadata": {},
   "outputs": [],
   "source": [
    "returns = data[\"Return\"].iloc[-len(y_test):].values\n",
    "strategy_returns = positions * returns"
   ]
  },
  {
   "cell_type": "code",
   "execution_count": 165,
   "id": "f43e278f",
   "metadata": {},
   "outputs": [
    {
     "name": "stdout",
     "output_type": "stream",
     "text": [
      "Rendement cumulé stratégie : -0.40016312611415894\n"
     ]
    }
   ],
   "source": [
    "print(\"Rendement cumulé stratégie :\", np.cumprod(1+strategy_returns)[-1] - 1)"
   ]
  }
 ],
 "metadata": {
  "kernelspec": {
   "display_name": "Python 3",
   "language": "python",
   "name": "python3"
  },
  "language_info": {
   "codemirror_mode": {
    "name": "ipython",
    "version": 3
   },
   "file_extension": ".py",
   "mimetype": "text/x-python",
   "name": "python",
   "nbconvert_exporter": "python",
   "pygments_lexer": "ipython3",
   "version": "3.10.0"
  }
 },
 "nbformat": 4,
 "nbformat_minor": 5
}
