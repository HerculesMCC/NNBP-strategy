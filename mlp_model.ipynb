{
 "cells": [
  {
   "cell_type": "code",
   "execution_count": 1,
   "id": "be6dcbaa",
   "metadata": {},
   "outputs": [],
   "source": [
    "import yfinance as yf\n",
    "import pandas as pd\n",
    "import numpy as np\n",
    "from sklearn.preprocessing import StandardScaler\n",
    "from sklearn.model_selection import train_test_split\n",
    "import tensorflow as tf\n",
    "from tensorflow import keras\n",
    "from tensorflow.keras import layers, models"
   ]
  },
  {
   "cell_type": "markdown",
   "id": "a5a25fc1",
   "metadata": {},
   "source": [
    "**Download Data**"
   ]
  },
  {
   "cell_type": "code",
   "execution_count": 3,
   "id": "1d70d702",
   "metadata": {},
   "outputs": [
    {
     "name": "stderr",
     "output_type": "stream",
     "text": [
      "C:\\Users\\Kyllian\\AppData\\Local\\Temp\\ipykernel_28248\\2701979701.py:1: FutureWarning: YF.download() has changed argument auto_adjust default to True\n",
      "  data = yf.download(\"AAPL\", start=\"2018-01-01\", end=\"2023-01-01\")\n",
      "[*********************100%***********************]  1 of 1 completed"
     ]
    },
    {
     "name": "stdout",
     "output_type": "stream",
     "text": [
      "Price            Close        High         Low        Open     Volume  \\\n",
      "Ticker            AAPL        AAPL        AAPL        AAPL       AAPL   \n",
      "Date                                                                    \n",
      "2018-01-03   40.373951   40.917804   40.310660   40.444277  118071600   \n",
      "2018-01-04   40.561512   40.664657   40.338815   40.446645   89738400   \n",
      "2018-01-05   41.023293   41.110026   40.566177   40.657600   94640000   \n",
      "2018-01-08   40.870937   41.166304   40.772478   40.870937   82271200   \n",
      "2018-01-09   40.866238   41.037362   40.650573   40.917810   86336000   \n",
      "...                ...         ...         ...         ...        ...   \n",
      "2022-12-23  130.026230  130.578440  127.837102  129.099300   63814900   \n",
      "2022-12-27  128.221649  129.582462  126.929870  129.552881   69007800   \n",
      "2022-12-28  124.287163  129.207765  124.119529  127.866678   85438400   \n",
      "2022-12-29  127.807487  128.665383  125.953636  126.210014   75703700   \n",
      "2022-12-30  128.123047  128.142773  125.657822  126.624196   77034200   \n",
      "\n",
      "Price         Return Target  \n",
      "Ticker                       \n",
      "Date                         \n",
      "2018-01-03 -0.000174      0  \n",
      "2018-01-04  0.004646      1  \n",
      "2018-01-05  0.011385      1  \n",
      "2018-01-08 -0.003714      0  \n",
      "2018-01-09 -0.000115      0  \n",
      "...              ...    ...  \n",
      "2022-12-23 -0.002798      0  \n",
      "2022-12-27 -0.013879      0  \n",
      "2022-12-28 -0.030685      0  \n",
      "2022-12-29  0.028324      1  \n",
      "2022-12-30  0.002469      1  \n",
      "\n",
      "[1258 rows x 7 columns]\n"
     ]
    },
    {
     "name": "stderr",
     "output_type": "stream",
     "text": [
      "\n"
     ]
    }
   ],
   "source": [
    "\n",
    "\n",
    "data = yf.download(\"AAPL\", start=\"2018-01-01\", end=\"2023-01-01\")\n",
    "\n",
    "data[\"Return\"] = data[\"Close\"].pct_change()\n",
    "data.dropna(inplace=True)\n",
    "\n",
    "data[\"Target\"] = (data[\"Return\"] > 0).astype(int)\n",
    "print(data)"
   ]
  },
  {
   "cell_type": "markdown",
   "id": "e43f095b",
   "metadata": {},
   "source": [
    "**Build Features**"
   ]
  },
  {
   "cell_type": "code",
   "execution_count": 4,
   "id": "210f1eba",
   "metadata": {},
   "outputs": [],
   "source": [
    "lookback = 5\n",
    "X, y = [], []\n",
    "for i in range(lookback, len(data)):\n",
    "    X.append(data[\"Return\"].values[i-lookback:i])\n",
    "    y.append(data[\"Target\"].values[i])\n",
    "\n",
    "X = np.array(X)\n",
    "y = np.array(y)\n",
    "\n",
    "# Standardisation\n",
    "scaler = StandardScaler()\n",
    "X = scaler.fit_transform(X)\n",
    "\n",
    "# Split train / test\n",
    "X_train, X_test, y_train, y_test = train_test_split(\n",
    "    X, y, test_size=0.2, shuffle=False\n",
    ")"
   ]
  },
  {
   "cell_type": "markdown",
   "id": "f4a7fcb1",
   "metadata": {},
   "source": [
    "**MLP Model**"
   ]
  },
  {
   "cell_type": "code",
   "execution_count": 5,
   "id": "44968865",
   "metadata": {},
   "outputs": [
    {
     "name": "stderr",
     "output_type": "stream",
     "text": [
      "c:\\Users\\Kyllian\\AppData\\Local\\Programs\\Python\\Python310\\lib\\site-packages\\keras\\src\\layers\\core\\dense.py:92: UserWarning: Do not pass an `input_shape`/`input_dim` argument to a layer. When using Sequential models, prefer using an `Input(shape)` object as the first layer in the model instead.\n",
      "  super().__init__(activity_regularizer=activity_regularizer, **kwargs)\n"
     ]
    }
   ],
   "source": [
    "model = models.Sequential([\n",
    "    layers.Dense(32, activation=\"relu\", input_shape=(X_train.shape[1],)),\n",
    "    layers.Dense(16, activation=\"relu\"),\n",
    "    layers.Dense(1, activation=\"sigmoid\")  # sortie = proba\n",
    "])\n",
    "\n",
    "model.compile(optimizer=\"adam\", loss=\"binary_crossentropy\", metrics=[\"accuracy\"])"
   ]
  },
  {
   "cell_type": "markdown",
   "id": "8409369d",
   "metadata": {},
   "source": [
    "**Training**"
   ]
  },
  {
   "cell_type": "code",
   "execution_count": 6,
   "id": "c728e2a7",
   "metadata": {},
   "outputs": [
    {
     "name": "stdout",
     "output_type": "stream",
     "text": [
      "Epoch 1/20\n",
      "\u001b[1m32/32\u001b[0m \u001b[32m━━━━━━━━━━━━━━━━━━━━\u001b[0m\u001b[37m\u001b[0m \u001b[1m2s\u001b[0m 16ms/step - accuracy: 0.5419 - loss: 0.6981 - val_accuracy: 0.4542 - val_loss: 0.7224\n",
      "Epoch 2/20\n",
      "\u001b[1m32/32\u001b[0m \u001b[32m━━━━━━━━━━━━━━━━━━━━\u001b[0m\u001b[37m\u001b[0m \u001b[1m0s\u001b[0m 5ms/step - accuracy: 0.5479 - loss: 0.6905 - val_accuracy: 0.4701 - val_loss: 0.7165\n",
      "Epoch 3/20\n",
      "\u001b[1m32/32\u001b[0m \u001b[32m━━━━━━━━━━━━━━━━━━━━\u001b[0m\u001b[37m\u001b[0m \u001b[1m0s\u001b[0m 8ms/step - accuracy: 0.5389 - loss: 0.6874 - val_accuracy: 0.4661 - val_loss: 0.7137\n",
      "Epoch 4/20\n",
      "\u001b[1m32/32\u001b[0m \u001b[32m━━━━━━━━━━━━━━━━━━━━\u001b[0m\u001b[37m\u001b[0m \u001b[1m0s\u001b[0m 8ms/step - accuracy: 0.5589 - loss: 0.6847 - val_accuracy: 0.4741 - val_loss: 0.7164\n",
      "Epoch 5/20\n",
      "\u001b[1m32/32\u001b[0m \u001b[32m━━━━━━━━━━━━━━━━━━━━\u001b[0m\u001b[37m\u001b[0m \u001b[1m0s\u001b[0m 6ms/step - accuracy: 0.5639 - loss: 0.6826 - val_accuracy: 0.4622 - val_loss: 0.7170\n",
      "Epoch 6/20\n",
      "\u001b[1m32/32\u001b[0m \u001b[32m━━━━━━━━━━━━━━━━━━━━\u001b[0m\u001b[37m\u001b[0m \u001b[1m0s\u001b[0m 5ms/step - accuracy: 0.5639 - loss: 0.6810 - val_accuracy: 0.4502 - val_loss: 0.7195\n",
      "Epoch 7/20\n",
      "\u001b[1m32/32\u001b[0m \u001b[32m━━━━━━━━━━━━━━━━━━━━\u001b[0m\u001b[37m\u001b[0m \u001b[1m0s\u001b[0m 5ms/step - accuracy: 0.5649 - loss: 0.6791 - val_accuracy: 0.4422 - val_loss: 0.7169\n",
      "Epoch 8/20\n",
      "\u001b[1m32/32\u001b[0m \u001b[32m━━━━━━━━━━━━━━━━━━━━\u001b[0m\u001b[37m\u001b[0m \u001b[1m0s\u001b[0m 4ms/step - accuracy: 0.5649 - loss: 0.6776 - val_accuracy: 0.4422 - val_loss: 0.7186\n",
      "Epoch 9/20\n",
      "\u001b[1m32/32\u001b[0m \u001b[32m━━━━━━━━━━━━━━━━━━━━\u001b[0m\u001b[37m\u001b[0m \u001b[1m0s\u001b[0m 5ms/step - accuracy: 0.5709 - loss: 0.6764 - val_accuracy: 0.4343 - val_loss: 0.7210\n",
      "Epoch 10/20\n",
      "\u001b[1m32/32\u001b[0m \u001b[32m━━━━━━━━━━━━━━━━━━━━\u001b[0m\u001b[37m\u001b[0m \u001b[1m0s\u001b[0m 5ms/step - accuracy: 0.5699 - loss: 0.6752 - val_accuracy: 0.4462 - val_loss: 0.7242\n",
      "Epoch 11/20\n",
      "\u001b[1m32/32\u001b[0m \u001b[32m━━━━━━━━━━━━━━━━━━━━\u001b[0m\u001b[37m\u001b[0m \u001b[1m0s\u001b[0m 5ms/step - accuracy: 0.5749 - loss: 0.6737 - val_accuracy: 0.4223 - val_loss: 0.7264\n",
      "Epoch 12/20\n",
      "\u001b[1m32/32\u001b[0m \u001b[32m━━━━━━━━━━━━━━━━━━━━\u001b[0m\u001b[37m\u001b[0m \u001b[1m0s\u001b[0m 5ms/step - accuracy: 0.5729 - loss: 0.6731 - val_accuracy: 0.4263 - val_loss: 0.7249\n",
      "Epoch 13/20\n",
      "\u001b[1m32/32\u001b[0m \u001b[32m━━━━━━━━━━━━━━━━━━━━\u001b[0m\u001b[37m\u001b[0m \u001b[1m0s\u001b[0m 5ms/step - accuracy: 0.5758 - loss: 0.6717 - val_accuracy: 0.4263 - val_loss: 0.7308\n",
      "Epoch 14/20\n",
      "\u001b[1m32/32\u001b[0m \u001b[32m━━━━━━━━━━━━━━━━━━━━\u001b[0m\u001b[37m\u001b[0m \u001b[1m0s\u001b[0m 5ms/step - accuracy: 0.5659 - loss: 0.6716 - val_accuracy: 0.4303 - val_loss: 0.7281\n",
      "Epoch 15/20\n",
      "\u001b[1m32/32\u001b[0m \u001b[32m━━━━━━━━━━━━━━━━━━━━\u001b[0m\u001b[37m\u001b[0m \u001b[1m0s\u001b[0m 5ms/step - accuracy: 0.5669 - loss: 0.6701 - val_accuracy: 0.4263 - val_loss: 0.7324\n",
      "Epoch 16/20\n",
      "\u001b[1m32/32\u001b[0m \u001b[32m━━━━━━━━━━━━━━━━━━━━\u001b[0m\u001b[37m\u001b[0m \u001b[1m0s\u001b[0m 5ms/step - accuracy: 0.5709 - loss: 0.6692 - val_accuracy: 0.4263 - val_loss: 0.7311\n",
      "Epoch 17/20\n",
      "\u001b[1m32/32\u001b[0m \u001b[32m━━━━━━━━━━━━━━━━━━━━\u001b[0m\u001b[37m\u001b[0m \u001b[1m0s\u001b[0m 5ms/step - accuracy: 0.5749 - loss: 0.6686 - val_accuracy: 0.4303 - val_loss: 0.7347\n",
      "Epoch 18/20\n",
      "\u001b[1m32/32\u001b[0m \u001b[32m━━━━━━━━━━━━━━━━━━━━\u001b[0m\u001b[37m\u001b[0m \u001b[1m0s\u001b[0m 6ms/step - accuracy: 0.5828 - loss: 0.6684 - val_accuracy: 0.4183 - val_loss: 0.7346\n",
      "Epoch 19/20\n",
      "\u001b[1m32/32\u001b[0m \u001b[32m━━━━━━━━━━━━━━━━━━━━\u001b[0m\u001b[37m\u001b[0m \u001b[1m0s\u001b[0m 7ms/step - accuracy: 0.5908 - loss: 0.6671 - val_accuracy: 0.4343 - val_loss: 0.7327\n",
      "Epoch 20/20\n",
      "\u001b[1m32/32\u001b[0m \u001b[32m━━━━━━━━━━━━━━━━━━━━\u001b[0m\u001b[37m\u001b[0m \u001b[1m0s\u001b[0m 5ms/step - accuracy: 0.5838 - loss: 0.6672 - val_accuracy: 0.4263 - val_loss: 0.7392\n"
     ]
    }
   ],
   "source": [
    "history = model.fit(X_train, y_train, validation_data=(X_test, y_test),\n",
    "                    epochs=20, batch_size=32, verbose=1)"
   ]
  },
  {
   "cell_type": "markdown",
   "id": "bba43a3f",
   "metadata": {},
   "source": [
    "**Long Only Strategy**"
   ]
  },
  {
   "cell_type": "code",
   "execution_count": 7,
   "id": "e9ea243c",
   "metadata": {},
   "outputs": [
    {
     "name": "stdout",
     "output_type": "stream",
     "text": [
      "\u001b[1m8/8\u001b[0m \u001b[32m━━━━━━━━━━━━━━━━━━━━\u001b[0m\u001b[37m\u001b[0m \u001b[1m0s\u001b[0m 7ms/step \n"
     ]
    }
   ],
   "source": [
    "proba = model.predict(X_test).flatten()\n",
    "positions = (proba > 0.5).astype(int)  # 1 si on prend position"
   ]
  },
  {
   "cell_type": "markdown",
   "id": "49fa5b0f",
   "metadata": {},
   "source": [
    "**Strategy  Simulation**"
   ]
  },
  {
   "cell_type": "code",
   "execution_count": 8,
   "id": "17e5d529",
   "metadata": {},
   "outputs": [],
   "source": [
    "returns = data[\"Return\"].iloc[-len(y_test):].values\n",
    "strategy_returns = positions * returns"
   ]
  },
  {
   "cell_type": "code",
   "execution_count": 9,
   "id": "f43e278f",
   "metadata": {},
   "outputs": [
    {
     "name": "stdout",
     "output_type": "stream",
     "text": [
      "Rendement cumulé stratégie : -0.19163491097583618\n"
     ]
    }
   ],
   "source": [
    "print(\"Rendement cumulé stratégie :\", np.cumprod(1+strategy_returns)[-1] - 1)"
   ]
  },
  {
   "cell_type": "markdown",
   "id": "9d80ac21",
   "metadata": {},
   "source": [
    "**Résultat :** ici, nous obtenons un rendement cumulé de stratégie de -0,218, soit -22 %.  \n",
    "\n",
    "L'idée est d'améliorer ce rendement. Plusieurs facteurs peuvent l'influencer :  \n",
    "\n",
    "### 1. Les données / features\n",
    "- Ici, nous utilisons seulement les 5 derniers rendements.  \n",
    "- Si ces 5 rendements n’apportent pas assez d’information pour prédire le rendement du lendemain, même un modèle parfait ne pourra pas améliorer significativement la performance.\n",
    "\n",
    "### 2. L’entraînement (`model.fit`)\n",
    "- Le modèle doit apprendre correctement à partir des données d’entraînement.  \n",
    "- Un nombre insuffisant d’epochs, un `batch_size` mal choisi ou la présence de bruit dans les données peuvent réduire la performance du modèle.\n",
    "\n",
    "### 3. Prétraitement des données\n",
    "- La standardisation, la suppression des valeurs manquantes (`NaN`), et la division correcte entre train et test impactent directement la qualité de l’apprentissage.  \n",
    "- Un prétraitement approprié est essentiel pour que le modèle exploite au mieux les informations contenues dans les features.\n"
   ]
  },
  {
   "cell_type": "code",
   "execution_count": 38,
   "id": "1db8d64d",
   "metadata": {},
   "outputs": [
    {
     "name": "stdout",
     "output_type": "stream",
     "text": [
      "[0.37454012 0.95071431 0.73199394]\n",
      "[0.37454012 0.95071431 0.73199394]\n"
     ]
    }
   ],
   "source": [
    "np.random.seed(42)\n",
    "print(np.random.rand(3))  # [0.37454012 0.95071431 0.73199394]\n",
    "\n",
    "np.random.seed(42)\n",
    "print(np.random.rand(3))  # [0.37454012 0.95071431 0.73199394] à nouveau\n"
   ]
  },
  {
   "cell_type": "code",
   "execution_count": 37,
   "id": "f4636f4a",
   "metadata": {},
   "outputs": [
    {
     "name": "stdout",
     "output_type": "stream",
     "text": [
      "[0.05808361 0.86617615 0.60111501]\n"
     ]
    }
   ],
   "source": [
    "print(np.random.rand(3))"
   ]
  },
  {
   "cell_type": "code",
   "execution_count": null,
   "id": "2d362887",
   "metadata": {},
   "outputs": [],
   "source": []
  }
 ],
 "metadata": {
  "kernelspec": {
   "display_name": "Python 3",
   "language": "python",
   "name": "python3"
  },
  "language_info": {
   "codemirror_mode": {
    "name": "ipython",
    "version": 3
   },
   "file_extension": ".py",
   "mimetype": "text/x-python",
   "name": "python",
   "nbconvert_exporter": "python",
   "pygments_lexer": "ipython3",
   "version": "3.10.0"
  }
 },
 "nbformat": 4,
 "nbformat_minor": 5
}
